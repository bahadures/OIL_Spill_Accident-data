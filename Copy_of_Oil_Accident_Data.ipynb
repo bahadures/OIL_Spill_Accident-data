{
  "nbformat": 4,
  "nbformat_minor": 0,
  "metadata": {
    "colab": {
      "provenance": [],
      "collapsed_sections": [],
      "mount_file_id": "1UerPIL-6v-31ABsh96cZZQ2XiVp1z11C",
      "authorship_tag": "ABX9TyO57s3nqYs5n7PXxLfTVFxE",
      "include_colab_link": true
    },
    "kernelspec": {
      "name": "python3",
      "display_name": "Python 3"
    },
    "language_info": {
      "name": "python"
    }
  },
  "cells": [
    {
      "cell_type": "markdown",
      "metadata": {
        "id": "view-in-github",
        "colab_type": "text"
      },
      "source": [
        "<a href=\"https://colab.research.google.com/github/bahadures/OIL_Spill_Accident-data/blob/master/Copy_of_Oil_Accident_Data.ipynb\" target=\"_parent\"><img src=\"https://colab.research.google.com/assets/colab-badge.svg\" alt=\"Open In Colab\"/></a>"
      ]
    },
    {
      "cell_type": "code",
      "execution_count": null,
      "metadata": {
        "id": "_aFaRVXmnYuo"
      },
      "outputs": [],
      "source": [
        "import pandas as pd\n",
        "import numpy as np\n",
        "import matplotlib.pyplot as plt\n",
        "import seaborn as sns\n",
        "import folium"
      ]
    },
    {
      "cell_type": "code",
      "source": [
        "from google.colab import drive\n",
        "drive.mount('/content/drive')"
      ],
      "metadata": {
        "colab": {
          "base_uri": "https://localhost:8080/"
        },
        "id": "5Wy0-ijGniHP",
        "outputId": "ec90cfd3-fee8-436b-eafa-6e15efa79873"
      },
      "execution_count": null,
      "outputs": [
        {
          "output_type": "stream",
          "name": "stdout",
          "text": [
            "Drive already mounted at /content/drive; to attempt to forcibly remount, call drive.mount(\"/content/drive\", force_remount=True).\n"
          ]
        }
      ]
    },
    {
      "cell_type": "code",
      "source": [
        "df = pd.read_csv('/content/drive/MyDrive/database.csv')"
      ],
      "metadata": {
        "id": "b-047MhonjUz"
      },
      "execution_count": null,
      "outputs": []
    },
    {
      "cell_type": "code",
      "source": [
        "df.head(2)"
      ],
      "metadata": {
        "colab": {
          "base_uri": "https://localhost:8080/",
          "height": 344
        },
        "id": "y_VD3y4Jnzeh",
        "outputId": "be1b7db3-a496-4bf9-f1e9-b62311ad2349"
      },
      "execution_count": null,
      "outputs": [
        {
          "output_type": "execute_result",
          "data": {
            "text/plain": [
              "   Report Number  Supplemental Number  Accident Year Accident Date/Time  \\\n",
              "0       20100016                17305           2010   1/1/2010 7:15 AM   \n",
              "1       20100254                17331           2010   1/4/2010 8:30 AM   \n",
              "\n",
              "   Operator ID           Operator Name Pipeline/Facility Name  \\\n",
              "0        32109   ONEOK NGL PIPELINE LP      KINDER MORGAN JCT   \n",
              "1        15786  PORTLAND PIPELINE CORP      24-INCH MAIN LINE   \n",
              "\n",
              "  Pipeline Location Pipeline Type                                 Liquid Type  \\\n",
              "0           ONSHORE   ABOVEGROUND  HVL OR OTHER FLAMMABLE OR TOXIC FLUID, GAS   \n",
              "1           ONSHORE   ABOVEGROUND                                   CRUDE OIL   \n",
              "\n",
              "   ... Other Fatalities Public Fatalities All Fatalities  \\\n",
              "0  ...              NaN               NaN            NaN   \n",
              "1  ...              NaN               NaN            NaN   \n",
              "\n",
              "  Property Damage Costs Lost Commodity Costs  \\\n",
              "0                 110.0               1517.0   \n",
              "1                4000.0                  8.0   \n",
              "\n",
              "   Public/Private Property Damage Costs  Emergency Response Costs  \\\n",
              "0                                   0.0                       0.0   \n",
              "1                                   0.0                       0.0   \n",
              "\n",
              "  Environmental Remediation Costs Other Costs  All Costs  \n",
              "0                             0.0         0.0       1627  \n",
              "1                             0.0         0.0       4008  \n",
              "\n",
              "[2 rows x 48 columns]"
            ],
            "text/html": [
              "\n",
              "  <div id=\"df-d556872b-90be-4ac8-a05c-beddaa34aa58\">\n",
              "    <div class=\"colab-df-container\">\n",
              "      <div>\n",
              "<style scoped>\n",
              "    .dataframe tbody tr th:only-of-type {\n",
              "        vertical-align: middle;\n",
              "    }\n",
              "\n",
              "    .dataframe tbody tr th {\n",
              "        vertical-align: top;\n",
              "    }\n",
              "\n",
              "    .dataframe thead th {\n",
              "        text-align: right;\n",
              "    }\n",
              "</style>\n",
              "<table border=\"1\" class=\"dataframe\">\n",
              "  <thead>\n",
              "    <tr style=\"text-align: right;\">\n",
              "      <th></th>\n",
              "      <th>Report Number</th>\n",
              "      <th>Supplemental Number</th>\n",
              "      <th>Accident Year</th>\n",
              "      <th>Accident Date/Time</th>\n",
              "      <th>Operator ID</th>\n",
              "      <th>Operator Name</th>\n",
              "      <th>Pipeline/Facility Name</th>\n",
              "      <th>Pipeline Location</th>\n",
              "      <th>Pipeline Type</th>\n",
              "      <th>Liquid Type</th>\n",
              "      <th>...</th>\n",
              "      <th>Other Fatalities</th>\n",
              "      <th>Public Fatalities</th>\n",
              "      <th>All Fatalities</th>\n",
              "      <th>Property Damage Costs</th>\n",
              "      <th>Lost Commodity Costs</th>\n",
              "      <th>Public/Private Property Damage Costs</th>\n",
              "      <th>Emergency Response Costs</th>\n",
              "      <th>Environmental Remediation Costs</th>\n",
              "      <th>Other Costs</th>\n",
              "      <th>All Costs</th>\n",
              "    </tr>\n",
              "  </thead>\n",
              "  <tbody>\n",
              "    <tr>\n",
              "      <th>0</th>\n",
              "      <td>20100016</td>\n",
              "      <td>17305</td>\n",
              "      <td>2010</td>\n",
              "      <td>1/1/2010 7:15 AM</td>\n",
              "      <td>32109</td>\n",
              "      <td>ONEOK NGL PIPELINE LP</td>\n",
              "      <td>KINDER MORGAN JCT</td>\n",
              "      <td>ONSHORE</td>\n",
              "      <td>ABOVEGROUND</td>\n",
              "      <td>HVL OR OTHER FLAMMABLE OR TOXIC FLUID, GAS</td>\n",
              "      <td>...</td>\n",
              "      <td>NaN</td>\n",
              "      <td>NaN</td>\n",
              "      <td>NaN</td>\n",
              "      <td>110.0</td>\n",
              "      <td>1517.0</td>\n",
              "      <td>0.0</td>\n",
              "      <td>0.0</td>\n",
              "      <td>0.0</td>\n",
              "      <td>0.0</td>\n",
              "      <td>1627</td>\n",
              "    </tr>\n",
              "    <tr>\n",
              "      <th>1</th>\n",
              "      <td>20100254</td>\n",
              "      <td>17331</td>\n",
              "      <td>2010</td>\n",
              "      <td>1/4/2010 8:30 AM</td>\n",
              "      <td>15786</td>\n",
              "      <td>PORTLAND PIPELINE CORP</td>\n",
              "      <td>24-INCH MAIN LINE</td>\n",
              "      <td>ONSHORE</td>\n",
              "      <td>ABOVEGROUND</td>\n",
              "      <td>CRUDE OIL</td>\n",
              "      <td>...</td>\n",
              "      <td>NaN</td>\n",
              "      <td>NaN</td>\n",
              "      <td>NaN</td>\n",
              "      <td>4000.0</td>\n",
              "      <td>8.0</td>\n",
              "      <td>0.0</td>\n",
              "      <td>0.0</td>\n",
              "      <td>0.0</td>\n",
              "      <td>0.0</td>\n",
              "      <td>4008</td>\n",
              "    </tr>\n",
              "  </tbody>\n",
              "</table>\n",
              "<p>2 rows × 48 columns</p>\n",
              "</div>\n",
              "      <button class=\"colab-df-convert\" onclick=\"convertToInteractive('df-d556872b-90be-4ac8-a05c-beddaa34aa58')\"\n",
              "              title=\"Convert this dataframe to an interactive table.\"\n",
              "              style=\"display:none;\">\n",
              "        \n",
              "  <svg xmlns=\"http://www.w3.org/2000/svg\" height=\"24px\"viewBox=\"0 0 24 24\"\n",
              "       width=\"24px\">\n",
              "    <path d=\"M0 0h24v24H0V0z\" fill=\"none\"/>\n",
              "    <path d=\"M18.56 5.44l.94 2.06.94-2.06 2.06-.94-2.06-.94-.94-2.06-.94 2.06-2.06.94zm-11 1L8.5 8.5l.94-2.06 2.06-.94-2.06-.94L8.5 2.5l-.94 2.06-2.06.94zm10 10l.94 2.06.94-2.06 2.06-.94-2.06-.94-.94-2.06-.94 2.06-2.06.94z\"/><path d=\"M17.41 7.96l-1.37-1.37c-.4-.4-.92-.59-1.43-.59-.52 0-1.04.2-1.43.59L10.3 9.45l-7.72 7.72c-.78.78-.78 2.05 0 2.83L4 21.41c.39.39.9.59 1.41.59.51 0 1.02-.2 1.41-.59l7.78-7.78 2.81-2.81c.8-.78.8-2.07 0-2.86zM5.41 20L4 18.59l7.72-7.72 1.47 1.35L5.41 20z\"/>\n",
              "  </svg>\n",
              "      </button>\n",
              "      \n",
              "  <style>\n",
              "    .colab-df-container {\n",
              "      display:flex;\n",
              "      flex-wrap:wrap;\n",
              "      gap: 12px;\n",
              "    }\n",
              "\n",
              "    .colab-df-convert {\n",
              "      background-color: #E8F0FE;\n",
              "      border: none;\n",
              "      border-radius: 50%;\n",
              "      cursor: pointer;\n",
              "      display: none;\n",
              "      fill: #1967D2;\n",
              "      height: 32px;\n",
              "      padding: 0 0 0 0;\n",
              "      width: 32px;\n",
              "    }\n",
              "\n",
              "    .colab-df-convert:hover {\n",
              "      background-color: #E2EBFA;\n",
              "      box-shadow: 0px 1px 2px rgba(60, 64, 67, 0.3), 0px 1px 3px 1px rgba(60, 64, 67, 0.15);\n",
              "      fill: #174EA6;\n",
              "    }\n",
              "\n",
              "    [theme=dark] .colab-df-convert {\n",
              "      background-color: #3B4455;\n",
              "      fill: #D2E3FC;\n",
              "    }\n",
              "\n",
              "    [theme=dark] .colab-df-convert:hover {\n",
              "      background-color: #434B5C;\n",
              "      box-shadow: 0px 1px 3px 1px rgba(0, 0, 0, 0.15);\n",
              "      filter: drop-shadow(0px 1px 2px rgba(0, 0, 0, 0.3));\n",
              "      fill: #FFFFFF;\n",
              "    }\n",
              "  </style>\n",
              "\n",
              "      <script>\n",
              "        const buttonEl =\n",
              "          document.querySelector('#df-d556872b-90be-4ac8-a05c-beddaa34aa58 button.colab-df-convert');\n",
              "        buttonEl.style.display =\n",
              "          google.colab.kernel.accessAllowed ? 'block' : 'none';\n",
              "\n",
              "        async function convertToInteractive(key) {\n",
              "          const element = document.querySelector('#df-d556872b-90be-4ac8-a05c-beddaa34aa58');\n",
              "          const dataTable =\n",
              "            await google.colab.kernel.invokeFunction('convertToInteractive',\n",
              "                                                     [key], {});\n",
              "          if (!dataTable) return;\n",
              "\n",
              "          const docLinkHtml = 'Like what you see? Visit the ' +\n",
              "            '<a target=\"_blank\" href=https://colab.research.google.com/notebooks/data_table.ipynb>data table notebook</a>'\n",
              "            + ' to learn more about interactive tables.';\n",
              "          element.innerHTML = '';\n",
              "          dataTable['output_type'] = 'display_data';\n",
              "          await google.colab.output.renderOutput(dataTable, element);\n",
              "          const docLink = document.createElement('div');\n",
              "          docLink.innerHTML = docLinkHtml;\n",
              "          element.appendChild(docLink);\n",
              "        }\n",
              "      </script>\n",
              "    </div>\n",
              "  </div>\n",
              "  "
            ]
          },
          "metadata": {},
          "execution_count": 4
        }
      ]
    },
    {
      "cell_type": "code",
      "source": [
        "df.columns"
      ],
      "metadata": {
        "colab": {
          "base_uri": "https://localhost:8080/"
        },
        "id": "4_B3v0Xt4XAA",
        "outputId": "73fa51e6-c616-432e-c167-4ad624ca06c6"
      },
      "execution_count": null,
      "outputs": [
        {
          "output_type": "execute_result",
          "data": {
            "text/plain": [
              "Index(['Report Number', 'Supplemental Number', 'Accident Year',\n",
              "       'Accident Date/Time', 'Operator ID', 'Operator Name',\n",
              "       'Pipeline/Facility Name', 'Pipeline Location', 'Pipeline Type',\n",
              "       'Liquid Type', 'Liquid Subtype', 'Liquid Name', 'Accident City',\n",
              "       'Accident County', 'Accident State', 'Accident Latitude',\n",
              "       'Accident Longitude', 'Cause Category', 'Cause Subcategory',\n",
              "       'Unintentional Release (Barrels)', 'Intentional Release (Barrels)',\n",
              "       'Liquid Recovery (Barrels)', 'Net Loss (Barrels)', 'Liquid Ignition',\n",
              "       'Liquid Explosion', 'Pipeline Shutdown', 'Shutdown Date/Time',\n",
              "       'Restart Date/Time', 'Public Evacuations', 'Operator Employee Injuries',\n",
              "       'Operator Contractor Injuries', 'Emergency Responder Injuries',\n",
              "       'Other Injuries', 'Public Injuries', 'All Injuries',\n",
              "       'Operator Employee Fatalities', 'Operator Contractor Fatalities',\n",
              "       'Emergency Responder Fatalities', 'Other Fatalities',\n",
              "       'Public Fatalities', 'All Fatalities', 'Property Damage Costs',\n",
              "       'Lost Commodity Costs', 'Public/Private Property Damage Costs',\n",
              "       'Emergency Response Costs', 'Environmental Remediation Costs',\n",
              "       'Other Costs', 'All Costs'],\n",
              "      dtype='object')"
            ]
          },
          "metadata": {},
          "execution_count": 5
        }
      ]
    },
    {
      "cell_type": "code",
      "source": [
        "print('The shape of the dataframe is {}'.format(df.shape))"
      ],
      "metadata": {
        "colab": {
          "base_uri": "https://localhost:8080/"
        },
        "id": "qVTCNDyW4Zzp",
        "outputId": "53001ca1-3e46-4a9e-a718-e14b168d475c"
      },
      "execution_count": null,
      "outputs": [
        {
          "output_type": "stream",
          "name": "stdout",
          "text": [
            "The shape of the dataframe is (2795, 48)\n"
          ]
        }
      ]
    },
    {
      "cell_type": "code",
      "source": [
        "#detecting the null values\n",
        "for columns in df:\n",
        "  print(\"{} has {}\".format(columns, df[columns].isnull().sum()))"
      ],
      "metadata": {
        "colab": {
          "base_uri": "https://localhost:8080/"
        },
        "id": "jvpAmqT64dde",
        "outputId": "0b6dff75-cc4c-4273-ad22-1df8a53f1d6d"
      },
      "execution_count": null,
      "outputs": [
        {
          "output_type": "stream",
          "name": "stdout",
          "text": [
            "Report Number has 0\n",
            "Supplemental Number has 0\n",
            "Accident Year has 0\n",
            "Accident Date/Time has 0\n",
            "Operator ID has 0\n",
            "Operator Name has 0\n",
            "Pipeline/Facility Name has 121\n",
            "Pipeline Location has 0\n",
            "Pipeline Type has 18\n",
            "Liquid Type has 0\n",
            "Liquid Subtype has 1446\n",
            "Liquid Name has 2573\n",
            "Accident City has 315\n",
            "Accident County has 75\n",
            "Accident State has 12\n",
            "Accident Latitude has 0\n",
            "Accident Longitude has 0\n",
            "Cause Category has 0\n",
            "Cause Subcategory has 0\n",
            "Unintentional Release (Barrels) has 0\n",
            "Intentional Release (Barrels) has 1586\n",
            "Liquid Recovery (Barrels) has 0\n",
            "Net Loss (Barrels) has 0\n",
            "Liquid Ignition has 0\n",
            "Liquid Explosion has 0\n",
            "Pipeline Shutdown has 212\n",
            "Shutdown Date/Time has 1405\n",
            "Restart Date/Time has 1454\n",
            "Public Evacuations has 457\n",
            "Operator Employee Injuries has 2783\n",
            "Operator Contractor Injuries has 2783\n",
            "Emergency Responder Injuries has 2783\n",
            "Other Injuries has 2783\n",
            "Public Injuries has 2783\n",
            "All Injuries has 2783\n",
            "Operator Employee Fatalities has 2787\n",
            "Operator Contractor Fatalities has 2787\n",
            "Emergency Responder Fatalities has 2787\n",
            "Other Fatalities has 2787\n",
            "Public Fatalities has 2787\n",
            "All Fatalities has 2787\n",
            "Property Damage Costs has 7\n",
            "Lost Commodity Costs has 4\n",
            "Public/Private Property Damage Costs has 10\n",
            "Emergency Response Costs has 6\n",
            "Environmental Remediation Costs has 8\n",
            "Other Costs has 16\n",
            "All Costs has 0\n"
          ]
        }
      ]
    },
    {
      "cell_type": "code",
      "source": [
        "#Pipeline/Facility Name\n",
        "df['Pipeline/Facility Name'] = df['Pipeline/Facility Name'].fillna(df['Pipeline/Facility Name'].median())"
      ],
      "metadata": {
        "colab": {
          "base_uri": "https://localhost:8080/",
          "height": 433
        },
        "id": "nj2FfMaY5UCe",
        "outputId": "fa9aae1f-784a-4dad-88b1-99000d74eedc"
      },
      "execution_count": null,
      "outputs": [
        {
          "output_type": "error",
          "ename": "TypeError",
          "evalue": "ignored",
          "traceback": [
            "\u001b[0;31m---------------------------------------------------------------------------\u001b[0m",
            "\u001b[0;31mValueError\u001b[0m                                Traceback (most recent call last)",
            "\u001b[0;32m/usr/local/lib/python3.7/dist-packages/pandas/core/nanops.py\u001b[0m in \u001b[0;36mnanmedian\u001b[0;34m(values, axis, skipna, mask)\u001b[0m\n\u001b[1;32m    719\u001b[0m         \u001b[0;32mtry\u001b[0m\u001b[0;34m:\u001b[0m\u001b[0;34m\u001b[0m\u001b[0;34m\u001b[0m\u001b[0m\n\u001b[0;32m--> 720\u001b[0;31m             \u001b[0mvalues\u001b[0m \u001b[0;34m=\u001b[0m \u001b[0mvalues\u001b[0m\u001b[0;34m.\u001b[0m\u001b[0mastype\u001b[0m\u001b[0;34m(\u001b[0m\u001b[0;34m\"f8\"\u001b[0m\u001b[0;34m)\u001b[0m\u001b[0;34m\u001b[0m\u001b[0;34m\u001b[0m\u001b[0m\n\u001b[0m\u001b[1;32m    721\u001b[0m         \u001b[0;32mexcept\u001b[0m \u001b[0mValueError\u001b[0m \u001b[0;32mas\u001b[0m \u001b[0merr\u001b[0m\u001b[0;34m:\u001b[0m\u001b[0;34m\u001b[0m\u001b[0;34m\u001b[0m\u001b[0m\n",
            "\u001b[0;31mValueError\u001b[0m: could not convert string to float: 'KINDER MORGAN JCT'",
            "\nThe above exception was the direct cause of the following exception:\n",
            "\u001b[0;31mTypeError\u001b[0m                                 Traceback (most recent call last)",
            "\u001b[0;32m<ipython-input-19-8b428e3a1c09>\u001b[0m in \u001b[0;36m<module>\u001b[0;34m\u001b[0m\n\u001b[1;32m      1\u001b[0m \u001b[0;31m#Pipeline/Facility Name\u001b[0m\u001b[0;34m\u001b[0m\u001b[0;34m\u001b[0m\u001b[0;34m\u001b[0m\u001b[0m\n\u001b[0;32m----> 2\u001b[0;31m \u001b[0mdf\u001b[0m\u001b[0;34m[\u001b[0m\u001b[0;34m'Pipeline/Facility Name'\u001b[0m\u001b[0;34m]\u001b[0m \u001b[0;34m=\u001b[0m \u001b[0mdf\u001b[0m\u001b[0;34m[\u001b[0m\u001b[0;34m'Pipeline/Facility Name'\u001b[0m\u001b[0;34m]\u001b[0m\u001b[0;34m.\u001b[0m\u001b[0mfillna\u001b[0m\u001b[0;34m(\u001b[0m\u001b[0mdf\u001b[0m\u001b[0;34m[\u001b[0m\u001b[0;34m'Pipeline/Facility Name'\u001b[0m\u001b[0;34m]\u001b[0m\u001b[0;34m.\u001b[0m\u001b[0mmedian\u001b[0m\u001b[0;34m(\u001b[0m\u001b[0;34m)\u001b[0m\u001b[0;34m)\u001b[0m\u001b[0;34m\u001b[0m\u001b[0;34m\u001b[0m\u001b[0m\n\u001b[0m",
            "\u001b[0;32m/usr/local/lib/python3.7/dist-packages/pandas/core/generic.py\u001b[0m in \u001b[0;36mmedian\u001b[0;34m(self, axis, skipna, level, numeric_only, **kwargs)\u001b[0m\n\u001b[1;32m  10800\u001b[0m             \u001b[0mself\u001b[0m\u001b[0;34m,\u001b[0m \u001b[0maxis\u001b[0m\u001b[0;34m=\u001b[0m\u001b[0;32mNone\u001b[0m\u001b[0;34m,\u001b[0m \u001b[0mskipna\u001b[0m\u001b[0;34m=\u001b[0m\u001b[0;32mNone\u001b[0m\u001b[0;34m,\u001b[0m \u001b[0mlevel\u001b[0m\u001b[0;34m=\u001b[0m\u001b[0;32mNone\u001b[0m\u001b[0;34m,\u001b[0m \u001b[0mnumeric_only\u001b[0m\u001b[0;34m=\u001b[0m\u001b[0;32mNone\u001b[0m\u001b[0;34m,\u001b[0m \u001b[0;34m**\u001b[0m\u001b[0mkwargs\u001b[0m\u001b[0;34m\u001b[0m\u001b[0;34m\u001b[0m\u001b[0m\n\u001b[1;32m  10801\u001b[0m         ):\n\u001b[0;32m> 10802\u001b[0;31m             \u001b[0;32mreturn\u001b[0m \u001b[0mNDFrame\u001b[0m\u001b[0;34m.\u001b[0m\u001b[0mmedian\u001b[0m\u001b[0;34m(\u001b[0m\u001b[0mself\u001b[0m\u001b[0;34m,\u001b[0m \u001b[0maxis\u001b[0m\u001b[0;34m,\u001b[0m \u001b[0mskipna\u001b[0m\u001b[0;34m,\u001b[0m \u001b[0mlevel\u001b[0m\u001b[0;34m,\u001b[0m \u001b[0mnumeric_only\u001b[0m\u001b[0;34m,\u001b[0m \u001b[0;34m**\u001b[0m\u001b[0mkwargs\u001b[0m\u001b[0;34m)\u001b[0m\u001b[0;34m\u001b[0m\u001b[0;34m\u001b[0m\u001b[0m\n\u001b[0m\u001b[1;32m  10803\u001b[0m \u001b[0;34m\u001b[0m\u001b[0m\n\u001b[1;32m  10804\u001b[0m         \u001b[0msetattr\u001b[0m\u001b[0;34m(\u001b[0m\u001b[0mcls\u001b[0m\u001b[0;34m,\u001b[0m \u001b[0;34m\"median\"\u001b[0m\u001b[0;34m,\u001b[0m \u001b[0mmedian\u001b[0m\u001b[0;34m)\u001b[0m\u001b[0;34m\u001b[0m\u001b[0;34m\u001b[0m\u001b[0m\n",
            "\u001b[0;32m/usr/local/lib/python3.7/dist-packages/pandas/core/generic.py\u001b[0m in \u001b[0;36mmedian\u001b[0;34m(self, axis, skipna, level, numeric_only, **kwargs)\u001b[0m\n\u001b[1;32m  10373\u001b[0m     \u001b[0;32mdef\u001b[0m \u001b[0mmedian\u001b[0m\u001b[0;34m(\u001b[0m\u001b[0mself\u001b[0m\u001b[0;34m,\u001b[0m \u001b[0maxis\u001b[0m\u001b[0;34m=\u001b[0m\u001b[0;32mNone\u001b[0m\u001b[0;34m,\u001b[0m \u001b[0mskipna\u001b[0m\u001b[0;34m=\u001b[0m\u001b[0;32mNone\u001b[0m\u001b[0;34m,\u001b[0m \u001b[0mlevel\u001b[0m\u001b[0;34m=\u001b[0m\u001b[0;32mNone\u001b[0m\u001b[0;34m,\u001b[0m \u001b[0mnumeric_only\u001b[0m\u001b[0;34m=\u001b[0m\u001b[0;32mNone\u001b[0m\u001b[0;34m,\u001b[0m \u001b[0;34m**\u001b[0m\u001b[0mkwargs\u001b[0m\u001b[0;34m)\u001b[0m\u001b[0;34m:\u001b[0m\u001b[0;34m\u001b[0m\u001b[0;34m\u001b[0m\u001b[0m\n\u001b[1;32m  10374\u001b[0m         return self._stat_function(\n\u001b[0;32m> 10375\u001b[0;31m             \u001b[0;34m\"median\"\u001b[0m\u001b[0;34m,\u001b[0m \u001b[0mnanops\u001b[0m\u001b[0;34m.\u001b[0m\u001b[0mnanmedian\u001b[0m\u001b[0;34m,\u001b[0m \u001b[0maxis\u001b[0m\u001b[0;34m,\u001b[0m \u001b[0mskipna\u001b[0m\u001b[0;34m,\u001b[0m \u001b[0mlevel\u001b[0m\u001b[0;34m,\u001b[0m \u001b[0mnumeric_only\u001b[0m\u001b[0;34m,\u001b[0m \u001b[0;34m**\u001b[0m\u001b[0mkwargs\u001b[0m\u001b[0;34m\u001b[0m\u001b[0;34m\u001b[0m\u001b[0m\n\u001b[0m\u001b[1;32m  10376\u001b[0m         )\n\u001b[1;32m  10377\u001b[0m \u001b[0;34m\u001b[0m\u001b[0m\n",
            "\u001b[0;32m/usr/local/lib/python3.7/dist-packages/pandas/core/generic.py\u001b[0m in \u001b[0;36m_stat_function\u001b[0;34m(self, name, func, axis, skipna, level, numeric_only, **kwargs)\u001b[0m\n\u001b[1;32m  10353\u001b[0m             )\n\u001b[1;32m  10354\u001b[0m         return self._reduce(\n\u001b[0;32m> 10355\u001b[0;31m             \u001b[0mfunc\u001b[0m\u001b[0;34m,\u001b[0m \u001b[0mname\u001b[0m\u001b[0;34m=\u001b[0m\u001b[0mname\u001b[0m\u001b[0;34m,\u001b[0m \u001b[0maxis\u001b[0m\u001b[0;34m=\u001b[0m\u001b[0maxis\u001b[0m\u001b[0;34m,\u001b[0m \u001b[0mskipna\u001b[0m\u001b[0;34m=\u001b[0m\u001b[0mskipna\u001b[0m\u001b[0;34m,\u001b[0m \u001b[0mnumeric_only\u001b[0m\u001b[0;34m=\u001b[0m\u001b[0mnumeric_only\u001b[0m\u001b[0;34m\u001b[0m\u001b[0;34m\u001b[0m\u001b[0m\n\u001b[0m\u001b[1;32m  10356\u001b[0m         )\n\u001b[1;32m  10357\u001b[0m \u001b[0;34m\u001b[0m\u001b[0m\n",
            "\u001b[0;32m/usr/local/lib/python3.7/dist-packages/pandas/core/series.py\u001b[0m in \u001b[0;36m_reduce\u001b[0;34m(self, op, name, axis, skipna, numeric_only, filter_type, **kwds)\u001b[0m\n\u001b[1;32m   4390\u001b[0m                 )\n\u001b[1;32m   4391\u001b[0m             \u001b[0;32mwith\u001b[0m \u001b[0mnp\u001b[0m\u001b[0;34m.\u001b[0m\u001b[0merrstate\u001b[0m\u001b[0;34m(\u001b[0m\u001b[0mall\u001b[0m\u001b[0;34m=\u001b[0m\u001b[0;34m\"ignore\"\u001b[0m\u001b[0;34m)\u001b[0m\u001b[0;34m:\u001b[0m\u001b[0;34m\u001b[0m\u001b[0;34m\u001b[0m\u001b[0m\n\u001b[0;32m-> 4392\u001b[0;31m                 \u001b[0;32mreturn\u001b[0m \u001b[0mop\u001b[0m\u001b[0;34m(\u001b[0m\u001b[0mdelegate\u001b[0m\u001b[0;34m,\u001b[0m \u001b[0mskipna\u001b[0m\u001b[0;34m=\u001b[0m\u001b[0mskipna\u001b[0m\u001b[0;34m,\u001b[0m \u001b[0;34m**\u001b[0m\u001b[0mkwds\u001b[0m\u001b[0;34m)\u001b[0m\u001b[0;34m\u001b[0m\u001b[0;34m\u001b[0m\u001b[0m\n\u001b[0m\u001b[1;32m   4393\u001b[0m \u001b[0;34m\u001b[0m\u001b[0m\n\u001b[1;32m   4394\u001b[0m     def _reindex_indexer(\n",
            "\u001b[0;32m/usr/local/lib/python3.7/dist-packages/pandas/core/nanops.py\u001b[0m in \u001b[0;36mf\u001b[0;34m(values, axis, skipna, **kwds)\u001b[0m\n\u001b[1;32m    154\u001b[0m                     \u001b[0mresult\u001b[0m \u001b[0;34m=\u001b[0m \u001b[0malt\u001b[0m\u001b[0;34m(\u001b[0m\u001b[0mvalues\u001b[0m\u001b[0;34m,\u001b[0m \u001b[0maxis\u001b[0m\u001b[0;34m=\u001b[0m\u001b[0maxis\u001b[0m\u001b[0;34m,\u001b[0m \u001b[0mskipna\u001b[0m\u001b[0;34m=\u001b[0m\u001b[0mskipna\u001b[0m\u001b[0;34m,\u001b[0m \u001b[0;34m**\u001b[0m\u001b[0mkwds\u001b[0m\u001b[0;34m)\u001b[0m\u001b[0;34m\u001b[0m\u001b[0;34m\u001b[0m\u001b[0m\n\u001b[1;32m    155\u001b[0m             \u001b[0;32melse\u001b[0m\u001b[0;34m:\u001b[0m\u001b[0;34m\u001b[0m\u001b[0;34m\u001b[0m\u001b[0m\n\u001b[0;32m--> 156\u001b[0;31m                 \u001b[0mresult\u001b[0m \u001b[0;34m=\u001b[0m \u001b[0malt\u001b[0m\u001b[0;34m(\u001b[0m\u001b[0mvalues\u001b[0m\u001b[0;34m,\u001b[0m \u001b[0maxis\u001b[0m\u001b[0;34m=\u001b[0m\u001b[0maxis\u001b[0m\u001b[0;34m,\u001b[0m \u001b[0mskipna\u001b[0m\u001b[0;34m=\u001b[0m\u001b[0mskipna\u001b[0m\u001b[0;34m,\u001b[0m \u001b[0;34m**\u001b[0m\u001b[0mkwds\u001b[0m\u001b[0;34m)\u001b[0m\u001b[0;34m\u001b[0m\u001b[0;34m\u001b[0m\u001b[0m\n\u001b[0m\u001b[1;32m    157\u001b[0m \u001b[0;34m\u001b[0m\u001b[0m\n\u001b[1;32m    158\u001b[0m             \u001b[0;32mreturn\u001b[0m \u001b[0mresult\u001b[0m\u001b[0;34m\u001b[0m\u001b[0;34m\u001b[0m\u001b[0m\n",
            "\u001b[0;32m/usr/local/lib/python3.7/dist-packages/pandas/core/nanops.py\u001b[0m in \u001b[0;36mnanmedian\u001b[0;34m(values, axis, skipna, mask)\u001b[0m\n\u001b[1;32m    721\u001b[0m         \u001b[0;32mexcept\u001b[0m \u001b[0mValueError\u001b[0m \u001b[0;32mas\u001b[0m \u001b[0merr\u001b[0m\u001b[0;34m:\u001b[0m\u001b[0;34m\u001b[0m\u001b[0;34m\u001b[0m\u001b[0m\n\u001b[1;32m    722\u001b[0m             \u001b[0;31m# e.g. \"could not convert string to float: 'a'\"\u001b[0m\u001b[0;34m\u001b[0m\u001b[0;34m\u001b[0m\u001b[0;34m\u001b[0m\u001b[0m\n\u001b[0;32m--> 723\u001b[0;31m             \u001b[0;32mraise\u001b[0m \u001b[0mTypeError\u001b[0m\u001b[0;34m(\u001b[0m\u001b[0mstr\u001b[0m\u001b[0;34m(\u001b[0m\u001b[0merr\u001b[0m\u001b[0;34m)\u001b[0m\u001b[0;34m)\u001b[0m \u001b[0;32mfrom\u001b[0m \u001b[0merr\u001b[0m\u001b[0;34m\u001b[0m\u001b[0;34m\u001b[0m\u001b[0m\n\u001b[0m\u001b[1;32m    724\u001b[0m         \u001b[0;32mif\u001b[0m \u001b[0mmask\u001b[0m \u001b[0;32mis\u001b[0m \u001b[0;32mnot\u001b[0m \u001b[0;32mNone\u001b[0m\u001b[0;34m:\u001b[0m\u001b[0;34m\u001b[0m\u001b[0;34m\u001b[0m\u001b[0m\n\u001b[1;32m    725\u001b[0m             \u001b[0mvalues\u001b[0m\u001b[0;34m[\u001b[0m\u001b[0mmask\u001b[0m\u001b[0;34m]\u001b[0m \u001b[0;34m=\u001b[0m \u001b[0mnp\u001b[0m\u001b[0;34m.\u001b[0m\u001b[0mnan\u001b[0m\u001b[0;34m\u001b[0m\u001b[0;34m\u001b[0m\u001b[0m\n",
            "\u001b[0;31mTypeError\u001b[0m: could not convert string to float: 'KINDER MORGAN JCT'"
          ]
        }
      ]
    },
    {
      "cell_type": "code",
      "source": [
        "#showing the columns having null values greater than 500\n",
        "for columns in df:\n",
        " if df[columns].isnull().sum() > 500:\n",
        "   print(columns)"
      ],
      "metadata": {
        "colab": {
          "base_uri": "https://localhost:8080/"
        },
        "id": "YPQX-3G64iFF",
        "outputId": "456b4514-8b6d-4c54-8311-a48e14b29888"
      },
      "execution_count": null,
      "outputs": [
        {
          "output_type": "stream",
          "name": "stdout",
          "text": [
            "Liquid Subtype\n",
            "Liquid Name\n",
            "Intentional Release (Barrels)\n",
            "Shutdown Date/Time\n",
            "Restart Date/Time\n",
            "Operator Employee Injuries\n",
            "Operator Contractor Injuries\n",
            "Emergency Responder Injuries\n",
            "Other Injuries\n",
            "Public Injuries\n",
            "All Injuries\n",
            "Operator Employee Fatalities\n",
            "Operator Contractor Fatalities\n",
            "Emergency Responder Fatalities\n",
            "Other Fatalities\n",
            "Public Fatalities\n",
            "All Fatalities\n"
          ]
        }
      ]
    },
    {
      "cell_type": "code",
      "source": [
        "#showing the columns having null values greater than 500\n",
        "for columns in df:\n",
        " if df[columns].isnull().sum() > 500:\n",
        "   df.drop([columns], axis = 1, inplace = True)"
      ],
      "metadata": {
        "id": "E4HIvoZG4niT"
      },
      "execution_count": null,
      "outputs": []
    },
    {
      "cell_type": "code",
      "source": [
        "df.shape #getting the new shape"
      ],
      "metadata": {
        "colab": {
          "base_uri": "https://localhost:8080/"
        },
        "id": "uQdmv9_04ras",
        "outputId": "19835503-ff31-4e45-b2fb-4dad4a96ac0f"
      },
      "execution_count": null,
      "outputs": [
        {
          "output_type": "execute_result",
          "data": {
            "text/plain": [
              "(2795, 31)"
            ]
          },
          "metadata": {},
          "execution_count": 11
        }
      ]
    },
    {
      "cell_type": "code",
      "source": [
        "#for getting the number of unique values for all the columns in the dataset\n",
        "for columns in df:\n",
        "  print(\"The unique values in the {} are {}\".format(columns, df[columns].nunique()))"
      ],
      "metadata": {
        "colab": {
          "base_uri": "https://localhost:8080/"
        },
        "id": "16GVHkLz4wbk",
        "outputId": "adf8c3ad-0e38-42ce-ba5e-12ff00348c8a"
      },
      "execution_count": null,
      "outputs": [
        {
          "output_type": "stream",
          "name": "stdout",
          "text": [
            "The unique values in the Report Number are 2795\n",
            "The unique values in the Supplemental Number are 2795\n",
            "The unique values in the Accident Year are 8\n",
            "The unique values in the Accident Date/Time are 2777\n",
            "The unique values in the Operator ID are 213\n",
            "The unique values in the Operator Name are 229\n",
            "The unique values in the Pipeline/Facility Name are 1977\n",
            "The unique values in the Pipeline Location are 2\n",
            "The unique values in the Pipeline Type are 4\n",
            "The unique values in the Liquid Type are 5\n",
            "The unique values in the Accident City are 1027\n",
            "The unique values in the Accident County are 678\n",
            "The unique values in the Accident State are 46\n",
            "The unique values in the Accident Latitude are 2552\n",
            "The unique values in the Accident Longitude are 2557\n",
            "The unique values in the Cause Category are 7\n",
            "The unique values in the Cause Subcategory are 38\n",
            "The unique values in the Unintentional Release (Barrels) are 697\n",
            "The unique values in the Liquid Recovery (Barrels) are 539\n",
            "The unique values in the Net Loss (Barrels) are 443\n",
            "The unique values in the Liquid Ignition are 2\n",
            "The unique values in the Liquid Explosion are 2\n",
            "The unique values in the Pipeline Shutdown are 2\n",
            "The unique values in the Public Evacuations are 35\n",
            "The unique values in the Property Damage Costs are 768\n",
            "The unique values in the Lost Commodity Costs are 748\n",
            "The unique values in the Public/Private Property Damage Costs are 110\n",
            "The unique values in the Emergency Response Costs are 712\n",
            "The unique values in the Environmental Remediation Costs are 628\n",
            "The unique values in the Other Costs are 175\n",
            "The unique values in the All Costs are 2279\n"
          ]
        }
      ]
    },
    {
      "cell_type": "code",
      "source": [
        "#showing the columns having null values greater than 500\n",
        "for columns in df:\n",
        " if df[columns].isnull().sum() > 100:\n",
        "   df.drop([columns], axis = 1, inplace = True)"
      ],
      "metadata": {
        "id": "v8H99nbVeXJa"
      },
      "execution_count": null,
      "outputs": []
    },
    {
      "cell_type": "code",
      "source": [
        "df.head(2)"
      ],
      "metadata": {
        "colab": {
          "base_uri": "https://localhost:8080/",
          "height": 344
        },
        "id": "72un2r9lefoC",
        "outputId": "9f7f8987-2dfc-47b3-ca07-b10965f91a76"
      },
      "execution_count": null,
      "outputs": [
        {
          "output_type": "execute_result",
          "data": {
            "text/plain": [
              "   Report Number  Supplemental Number  Accident Year Accident Date/Time  \\\n",
              "0       20100016                17305           2010   1/1/2010 7:15 AM   \n",
              "1       20100254                17331           2010   1/4/2010 8:30 AM   \n",
              "\n",
              "   Operator ID           Operator Name Pipeline Location Pipeline Type  \\\n",
              "0        32109   ONEOK NGL PIPELINE LP           ONSHORE   ABOVEGROUND   \n",
              "1        15786  PORTLAND PIPELINE CORP           ONSHORE   ABOVEGROUND   \n",
              "\n",
              "                                  Liquid Type Accident County  ...  \\\n",
              "0  HVL OR OTHER FLAMMABLE OR TOXIC FLUID, GAS       MCPHERSON  ...   \n",
              "1                                   CRUDE OIL      CUMBERLAND  ...   \n",
              "\n",
              "  Net Loss (Barrels)  Liquid Ignition  Liquid Explosion Property Damage Costs  \\\n",
              "0               21.0               NO                NO                 110.0   \n",
              "1                0.0               NO                NO                4000.0   \n",
              "\n",
              "  Lost Commodity Costs  Public/Private Property Damage Costs  \\\n",
              "0               1517.0                                   0.0   \n",
              "1                  8.0                                   0.0   \n",
              "\n",
              "   Emergency Response Costs  Environmental Remediation Costs Other Costs  \\\n",
              "0                       0.0                              0.0         0.0   \n",
              "1                       0.0                              0.0         0.0   \n",
              "\n",
              "  All Costs  \n",
              "0      1627  \n",
              "1      4008  \n",
              "\n",
              "[2 rows x 27 columns]"
            ],
            "text/html": [
              "\n",
              "  <div id=\"df-dc81df25-e35e-43a1-86c0-00493c60edb2\">\n",
              "    <div class=\"colab-df-container\">\n",
              "      <div>\n",
              "<style scoped>\n",
              "    .dataframe tbody tr th:only-of-type {\n",
              "        vertical-align: middle;\n",
              "    }\n",
              "\n",
              "    .dataframe tbody tr th {\n",
              "        vertical-align: top;\n",
              "    }\n",
              "\n",
              "    .dataframe thead th {\n",
              "        text-align: right;\n",
              "    }\n",
              "</style>\n",
              "<table border=\"1\" class=\"dataframe\">\n",
              "  <thead>\n",
              "    <tr style=\"text-align: right;\">\n",
              "      <th></th>\n",
              "      <th>Report Number</th>\n",
              "      <th>Supplemental Number</th>\n",
              "      <th>Accident Year</th>\n",
              "      <th>Accident Date/Time</th>\n",
              "      <th>Operator ID</th>\n",
              "      <th>Operator Name</th>\n",
              "      <th>Pipeline Location</th>\n",
              "      <th>Pipeline Type</th>\n",
              "      <th>Liquid Type</th>\n",
              "      <th>Accident County</th>\n",
              "      <th>...</th>\n",
              "      <th>Net Loss (Barrels)</th>\n",
              "      <th>Liquid Ignition</th>\n",
              "      <th>Liquid Explosion</th>\n",
              "      <th>Property Damage Costs</th>\n",
              "      <th>Lost Commodity Costs</th>\n",
              "      <th>Public/Private Property Damage Costs</th>\n",
              "      <th>Emergency Response Costs</th>\n",
              "      <th>Environmental Remediation Costs</th>\n",
              "      <th>Other Costs</th>\n",
              "      <th>All Costs</th>\n",
              "    </tr>\n",
              "  </thead>\n",
              "  <tbody>\n",
              "    <tr>\n",
              "      <th>0</th>\n",
              "      <td>20100016</td>\n",
              "      <td>17305</td>\n",
              "      <td>2010</td>\n",
              "      <td>1/1/2010 7:15 AM</td>\n",
              "      <td>32109</td>\n",
              "      <td>ONEOK NGL PIPELINE LP</td>\n",
              "      <td>ONSHORE</td>\n",
              "      <td>ABOVEGROUND</td>\n",
              "      <td>HVL OR OTHER FLAMMABLE OR TOXIC FLUID, GAS</td>\n",
              "      <td>MCPHERSON</td>\n",
              "      <td>...</td>\n",
              "      <td>21.0</td>\n",
              "      <td>NO</td>\n",
              "      <td>NO</td>\n",
              "      <td>110.0</td>\n",
              "      <td>1517.0</td>\n",
              "      <td>0.0</td>\n",
              "      <td>0.0</td>\n",
              "      <td>0.0</td>\n",
              "      <td>0.0</td>\n",
              "      <td>1627</td>\n",
              "    </tr>\n",
              "    <tr>\n",
              "      <th>1</th>\n",
              "      <td>20100254</td>\n",
              "      <td>17331</td>\n",
              "      <td>2010</td>\n",
              "      <td>1/4/2010 8:30 AM</td>\n",
              "      <td>15786</td>\n",
              "      <td>PORTLAND PIPELINE CORP</td>\n",
              "      <td>ONSHORE</td>\n",
              "      <td>ABOVEGROUND</td>\n",
              "      <td>CRUDE OIL</td>\n",
              "      <td>CUMBERLAND</td>\n",
              "      <td>...</td>\n",
              "      <td>0.0</td>\n",
              "      <td>NO</td>\n",
              "      <td>NO</td>\n",
              "      <td>4000.0</td>\n",
              "      <td>8.0</td>\n",
              "      <td>0.0</td>\n",
              "      <td>0.0</td>\n",
              "      <td>0.0</td>\n",
              "      <td>0.0</td>\n",
              "      <td>4008</td>\n",
              "    </tr>\n",
              "  </tbody>\n",
              "</table>\n",
              "<p>2 rows × 27 columns</p>\n",
              "</div>\n",
              "      <button class=\"colab-df-convert\" onclick=\"convertToInteractive('df-dc81df25-e35e-43a1-86c0-00493c60edb2')\"\n",
              "              title=\"Convert this dataframe to an interactive table.\"\n",
              "              style=\"display:none;\">\n",
              "        \n",
              "  <svg xmlns=\"http://www.w3.org/2000/svg\" height=\"24px\"viewBox=\"0 0 24 24\"\n",
              "       width=\"24px\">\n",
              "    <path d=\"M0 0h24v24H0V0z\" fill=\"none\"/>\n",
              "    <path d=\"M18.56 5.44l.94 2.06.94-2.06 2.06-.94-2.06-.94-.94-2.06-.94 2.06-2.06.94zm-11 1L8.5 8.5l.94-2.06 2.06-.94-2.06-.94L8.5 2.5l-.94 2.06-2.06.94zm10 10l.94 2.06.94-2.06 2.06-.94-2.06-.94-.94-2.06-.94 2.06-2.06.94z\"/><path d=\"M17.41 7.96l-1.37-1.37c-.4-.4-.92-.59-1.43-.59-.52 0-1.04.2-1.43.59L10.3 9.45l-7.72 7.72c-.78.78-.78 2.05 0 2.83L4 21.41c.39.39.9.59 1.41.59.51 0 1.02-.2 1.41-.59l7.78-7.78 2.81-2.81c.8-.78.8-2.07 0-2.86zM5.41 20L4 18.59l7.72-7.72 1.47 1.35L5.41 20z\"/>\n",
              "  </svg>\n",
              "      </button>\n",
              "      \n",
              "  <style>\n",
              "    .colab-df-container {\n",
              "      display:flex;\n",
              "      flex-wrap:wrap;\n",
              "      gap: 12px;\n",
              "    }\n",
              "\n",
              "    .colab-df-convert {\n",
              "      background-color: #E8F0FE;\n",
              "      border: none;\n",
              "      border-radius: 50%;\n",
              "      cursor: pointer;\n",
              "      display: none;\n",
              "      fill: #1967D2;\n",
              "      height: 32px;\n",
              "      padding: 0 0 0 0;\n",
              "      width: 32px;\n",
              "    }\n",
              "\n",
              "    .colab-df-convert:hover {\n",
              "      background-color: #E2EBFA;\n",
              "      box-shadow: 0px 1px 2px rgba(60, 64, 67, 0.3), 0px 1px 3px 1px rgba(60, 64, 67, 0.15);\n",
              "      fill: #174EA6;\n",
              "    }\n",
              "\n",
              "    [theme=dark] .colab-df-convert {\n",
              "      background-color: #3B4455;\n",
              "      fill: #D2E3FC;\n",
              "    }\n",
              "\n",
              "    [theme=dark] .colab-df-convert:hover {\n",
              "      background-color: #434B5C;\n",
              "      box-shadow: 0px 1px 3px 1px rgba(0, 0, 0, 0.15);\n",
              "      filter: drop-shadow(0px 1px 2px rgba(0, 0, 0, 0.3));\n",
              "      fill: #FFFFFF;\n",
              "    }\n",
              "  </style>\n",
              "\n",
              "      <script>\n",
              "        const buttonEl =\n",
              "          document.querySelector('#df-dc81df25-e35e-43a1-86c0-00493c60edb2 button.colab-df-convert');\n",
              "        buttonEl.style.display =\n",
              "          google.colab.kernel.accessAllowed ? 'block' : 'none';\n",
              "\n",
              "        async function convertToInteractive(key) {\n",
              "          const element = document.querySelector('#df-dc81df25-e35e-43a1-86c0-00493c60edb2');\n",
              "          const dataTable =\n",
              "            await google.colab.kernel.invokeFunction('convertToInteractive',\n",
              "                                                     [key], {});\n",
              "          if (!dataTable) return;\n",
              "\n",
              "          const docLinkHtml = 'Like what you see? Visit the ' +\n",
              "            '<a target=\"_blank\" href=https://colab.research.google.com/notebooks/data_table.ipynb>data table notebook</a>'\n",
              "            + ' to learn more about interactive tables.';\n",
              "          element.innerHTML = '';\n",
              "          dataTable['output_type'] = 'display_data';\n",
              "          await google.colab.output.renderOutput(dataTable, element);\n",
              "          const docLink = document.createElement('div');\n",
              "          docLink.innerHTML = docLinkHtml;\n",
              "          element.appendChild(docLink);\n",
              "        }\n",
              "      </script>\n",
              "    </div>\n",
              "  </div>\n",
              "  "
            ]
          },
          "metadata": {},
          "execution_count": 15
        }
      ]
    },
    {
      "cell_type": "code",
      "source": [
        "df.shape"
      ],
      "metadata": {
        "colab": {
          "base_uri": "https://localhost:8080/"
        },
        "id": "P8I_6icSejGh",
        "outputId": "450a8b83-05a1-49f7-a834-a0120b1cb369"
      },
      "execution_count": null,
      "outputs": [
        {
          "output_type": "execute_result",
          "data": {
            "text/plain": [
              "(2795, 27)"
            ]
          },
          "metadata": {},
          "execution_count": 16
        }
      ]
    },
    {
      "cell_type": "code",
      "source": [
        "df.columns"
      ],
      "metadata": {
        "colab": {
          "base_uri": "https://localhost:8080/"
        },
        "id": "7FMdxIqZelsH",
        "outputId": "65bea55a-f2c4-48c0-ea51-b10240c1a0a7"
      },
      "execution_count": null,
      "outputs": [
        {
          "output_type": "execute_result",
          "data": {
            "text/plain": [
              "Index(['Report Number', 'Supplemental Number', 'Accident Year',\n",
              "       'Accident Date/Time', 'Operator ID', 'Operator Name',\n",
              "       'Pipeline Location', 'Pipeline Type', 'Liquid Type', 'Accident County',\n",
              "       'Accident State', 'Accident Latitude', 'Accident Longitude',\n",
              "       'Cause Category', 'Cause Subcategory',\n",
              "       'Unintentional Release (Barrels)', 'Liquid Recovery (Barrels)',\n",
              "       'Net Loss (Barrels)', 'Liquid Ignition', 'Liquid Explosion',\n",
              "       'Property Damage Costs', 'Lost Commodity Costs',\n",
              "       'Public/Private Property Damage Costs', 'Emergency Response Costs',\n",
              "       'Environmental Remediation Costs', 'Other Costs', 'All Costs'],\n",
              "      dtype='object')"
            ]
          },
          "metadata": {},
          "execution_count": 17
        }
      ]
    },
    {
      "cell_type": "code",
      "source": [
        "df['Pipeline Type'].unique()"
      ],
      "metadata": {
        "colab": {
          "base_uri": "https://localhost:8080/"
        },
        "id": "J_7F4qZgepxy",
        "outputId": "c0cb501e-295a-4b6b-b4cb-7df85926c7f6"
      },
      "execution_count": null,
      "outputs": [
        {
          "output_type": "execute_result",
          "data": {
            "text/plain": [
              "array(['ABOVEGROUND', 'UNDERGROUND', 'TANK', nan, 'TRANSITION AREA'],\n",
              "      dtype=object)"
            ]
          },
          "metadata": {},
          "execution_count": 18
        }
      ]
    },
    {
      "cell_type": "code",
      "source": [
        "df.dropna(axis = 0, inplace = True)"
      ],
      "metadata": {
        "id": "K2o6AiF6gliK"
      },
      "execution_count": null,
      "outputs": []
    },
    {
      "cell_type": "code",
      "source": [
        "df.shape"
      ],
      "metadata": {
        "colab": {
          "base_uri": "https://localhost:8080/"
        },
        "id": "pe1gyiNKhfRe",
        "outputId": "53b8c53f-c41e-427d-d57b-c719e1af2b99"
      },
      "execution_count": null,
      "outputs": [
        {
          "output_type": "execute_result",
          "data": {
            "text/plain": [
              "(2700, 27)"
            ]
          },
          "metadata": {},
          "execution_count": 26
        }
      ]
    },
    {
      "cell_type": "code",
      "source": [
        "df.columns"
      ],
      "metadata": {
        "colab": {
          "base_uri": "https://localhost:8080/"
        },
        "id": "1gNVw1uEhjWC",
        "outputId": "d703f186-3f3f-46df-a848-662557dab226"
      },
      "execution_count": null,
      "outputs": [
        {
          "output_type": "execute_result",
          "data": {
            "text/plain": [
              "Index(['Report Number', 'Supplemental Number', 'Accident Year',\n",
              "       'Accident Date/Time', 'Operator ID', 'Operator Name',\n",
              "       'Pipeline Location', 'Pipeline Type', 'Liquid Type', 'Accident County',\n",
              "       'Accident State', 'Accident Latitude', 'Accident Longitude',\n",
              "       'Cause Category', 'Cause Subcategory',\n",
              "       'Unintentional Release (Barrels)', 'Liquid Recovery (Barrels)',\n",
              "       'Net Loss (Barrels)', 'Liquid Ignition', 'Liquid Explosion',\n",
              "       'Property Damage Costs', 'Lost Commodity Costs',\n",
              "       'Public/Private Property Damage Costs', 'Emergency Response Costs',\n",
              "       'Environmental Remediation Costs', 'Other Costs', 'All Costs'],\n",
              "      dtype='object')"
            ]
          },
          "metadata": {},
          "execution_count": 27
        }
      ]
    },
    {
      "cell_type": "code",
      "source": [
        "#checking the datatype of columns\n",
        "for columns in df:\n",
        "  print(\"the {} has {}\".format(columns, df.columns.dtype))"
      ],
      "metadata": {
        "colab": {
          "base_uri": "https://localhost:8080/"
        },
        "id": "uGbeORUOfLdj",
        "outputId": "968c9c92-f79e-48e0-dde2-f095c5ead7ab"
      },
      "execution_count": null,
      "outputs": [
        {
          "output_type": "stream",
          "name": "stdout",
          "text": [
            "the Report Number has object\n",
            "the Supplemental Number has object\n",
            "the Accident Year has object\n",
            "the Accident Date/Time has object\n",
            "the Operator ID has object\n",
            "the Operator Name has object\n",
            "the Pipeline Location has object\n",
            "the Pipeline Type has object\n",
            "the Liquid Type has object\n",
            "the Accident County has object\n",
            "the Accident State has object\n",
            "the Accident Latitude has object\n",
            "the Accident Longitude has object\n",
            "the Cause Category has object\n",
            "the Cause Subcategory has object\n",
            "the Unintentional Release (Barrels) has object\n",
            "the Liquid Recovery (Barrels) has object\n",
            "the Net Loss (Barrels) has object\n",
            "the Liquid Ignition has object\n",
            "the Liquid Explosion has object\n",
            "the Property Damage Costs has object\n",
            "the Lost Commodity Costs has object\n",
            "the Public/Private Property Damage Costs has object\n",
            "the Emergency Response Costs has object\n",
            "the Environmental Remediation Costs has object\n",
            "the Other Costs has object\n",
            "the All Costs has object\n"
          ]
        }
      ]
    },
    {
      "cell_type": "code",
      "source": [
        "df.groupby('Accident Year')['Report Number'].count().plot(kind = 'bar')"
      ],
      "metadata": {
        "colab": {
          "base_uri": "https://localhost:8080/",
          "height": 312
        },
        "id": "H2HRWQE86_fu",
        "outputId": "5fc77674-5156-4bfd-fa0d-97b20478c74c"
      },
      "execution_count": null,
      "outputs": [
        {
          "output_type": "execute_result",
          "data": {
            "text/plain": [
              "<matplotlib.axes._subplots.AxesSubplot at 0x7f3ae4ccf410>"
            ]
          },
          "metadata": {},
          "execution_count": 28
        },
        {
          "output_type": "display_data",
          "data": {
            "text/plain": [
              "<Figure size 432x288 with 1 Axes>"
            ],
            "image/png": "[encoded data removed]"
          },
          "metadata": {
            "needs_background": "light"
          }
        }
      ]
    },
    {
      "cell_type": "markdown",
      "source": [
        "Observation: Year 2015 reported the maximum number of accidents"
      ],
      "metadata": {
        "id": "Z9WNAGcDiX4_"
      }
    },
    {
      "cell_type": "code",
      "source": [
        "df.head(2)"
      ],
      "metadata": {
        "colab": {
          "base_uri": "https://localhost:8080/",
          "height": 344
        },
        "id": "ZbGkzQ8PifUH",
        "outputId": "c1c80ec2-068f-49bb-8929-62ed64c7d4e7"
      },
      "execution_count": null,
      "outputs": [
        {
          "output_type": "execute_result",
          "data": {
            "text/plain": [
              "   Report Number  Supplemental Number  Accident Year Accident Date/Time  \\\n",
              "0       20100016                17305           2010   1/1/2010 7:15 AM   \n",
              "1       20100254                17331           2010   1/4/2010 8:30 AM   \n",
              "\n",
              "   Operator ID           Operator Name Pipeline Location Pipeline Type  \\\n",
              "0        32109   ONEOK NGL PIPELINE LP           ONSHORE   ABOVEGROUND   \n",
              "1        15786  PORTLAND PIPELINE CORP           ONSHORE   ABOVEGROUND   \n",
              "\n",
              "                                  Liquid Type Accident County  ...  \\\n",
              "0  HVL OR OTHER FLAMMABLE OR TOXIC FLUID, GAS       MCPHERSON  ...   \n",
              "1                                   CRUDE OIL      CUMBERLAND  ...   \n",
              "\n",
              "  Net Loss (Barrels)  Liquid Ignition  Liquid Explosion Property Damage Costs  \\\n",
              "0               21.0               NO                NO                 110.0   \n",
              "1                0.0               NO                NO                4000.0   \n",
              "\n",
              "  Lost Commodity Costs  Public/Private Property Damage Costs  \\\n",
              "0               1517.0                                   0.0   \n",
              "1                  8.0                                   0.0   \n",
              "\n",
              "   Emergency Response Costs  Environmental Remediation Costs Other Costs  \\\n",
              "0                       0.0                              0.0         0.0   \n",
              "1                       0.0                              0.0         0.0   \n",
              "\n",
              "  All Costs  \n",
              "0      1627  \n",
              "1      4008  \n",
              "\n",
              "[2 rows x 27 columns]"
            ],
            "text/html": [
              "\n",
              "  <div id=\"df-8b686e64-3d88-4673-9e82-9f8fe5ed105f\">\n",
              "    <div class=\"colab-df-container\">\n",
              "      <div>\n",
              "<style scoped>\n",
              "    .dataframe tbody tr th:only-of-type {\n",
              "        vertical-align: middle;\n",
              "    }\n",
              "\n",
              "    .dataframe tbody tr th {\n",
              "        vertical-align: top;\n",
              "    }\n",
              "\n",
              "    .dataframe thead th {\n",
              "        text-align: right;\n",
              "    }\n",
              "</style>\n",
              "<table border=\"1\" class=\"dataframe\">\n",
              "  <thead>\n",
              "    <tr style=\"text-align: right;\">\n",
              "      <th></th>\n",
              "      <th>Report Number</th>\n",
              "      <th>Supplemental Number</th>\n",
              "      <th>Accident Year</th>\n",
              "      <th>Accident Date/Time</th>\n",
              "      <th>Operator ID</th>\n",
              "      <th>Operator Name</th>\n",
              "      <th>Pipeline Location</th>\n",
              "      <th>Pipeline Type</th>\n",
              "      <th>Liquid Type</th>\n",
              "      <th>Accident County</th>\n",
              "      <th>...</th>\n",
              "      <th>Net Loss (Barrels)</th>\n",
              "      <th>Liquid Ignition</th>\n",
              "      <th>Liquid Explosion</th>\n",
              "      <th>Property Damage Costs</th>\n",
              "      <th>Lost Commodity Costs</th>\n",
              "      <th>Public/Private Property Damage Costs</th>\n",
              "      <th>Emergency Response Costs</th>\n",
              "      <th>Environmental Remediation Costs</th>\n",
              "      <th>Other Costs</th>\n",
              "      <th>All Costs</th>\n",
              "    </tr>\n",
              "  </thead>\n",
              "  <tbody>\n",
              "    <tr>\n",
              "      <th>0</th>\n",
              "      <td>20100016</td>\n",
              "      <td>17305</td>\n",
              "      <td>2010</td>\n",
              "      <td>1/1/2010 7:15 AM</td>\n",
              "      <td>32109</td>\n",
              "      <td>ONEOK NGL PIPELINE LP</td>\n",
              "      <td>ONSHORE</td>\n",
              "      <td>ABOVEGROUND</td>\n",
              "      <td>HVL OR OTHER FLAMMABLE OR TOXIC FLUID, GAS</td>\n",
              "      <td>MCPHERSON</td>\n",
              "      <td>...</td>\n",
              "      <td>21.0</td>\n",
              "      <td>NO</td>\n",
              "      <td>NO</td>\n",
              "      <td>110.0</td>\n",
              "      <td>1517.0</td>\n",
              "      <td>0.0</td>\n",
              "      <td>0.0</td>\n",
              "      <td>0.0</td>\n",
              "      <td>0.0</td>\n",
              "      <td>1627</td>\n",
              "    </tr>\n",
              "    <tr>\n",
              "      <th>1</th>\n",
              "      <td>20100254</td>\n",
              "      <td>17331</td>\n",
              "      <td>2010</td>\n",
              "      <td>1/4/2010 8:30 AM</td>\n",
              "      <td>15786</td>\n",
              "      <td>PORTLAND PIPELINE CORP</td>\n",
              "      <td>ONSHORE</td>\n",
              "      <td>ABOVEGROUND</td>\n",
              "      <td>CRUDE OIL</td>\n",
              "      <td>CUMBERLAND</td>\n",
              "      <td>...</td>\n",
              "      <td>0.0</td>\n",
              "      <td>NO</td>\n",
              "      <td>NO</td>\n",
              "      <td>4000.0</td>\n",
              "      <td>8.0</td>\n",
              "      <td>0.0</td>\n",
              "      <td>0.0</td>\n",
              "      <td>0.0</td>\n",
              "      <td>0.0</td>\n",
              "      <td>4008</td>\n",
              "    </tr>\n",
              "  </tbody>\n",
              "</table>\n",
              "<p>2 rows × 27 columns</p>\n",
              "</div>\n",
              "      <button class=\"colab-df-convert\" onclick=\"convertToInteractive('df-8b686e64-3d88-4673-9e82-9f8fe5ed105f')\"\n",
              "              title=\"Convert this dataframe to an interactive table.\"\n",
              "              style=\"display:none;\">\n",
              "        \n",
              "  <svg xmlns=\"http://www.w3.org/2000/svg\" height=\"24px\"viewBox=\"0 0 24 24\"\n",
              "       width=\"24px\">\n",
              "    <path d=\"M0 0h24v24H0V0z\" fill=\"none\"/>\n",
              "    <path d=\"M18.56 5.44l.94 2.06.94-2.06 2.06-.94-2.06-.94-.94-2.06-.94 2.06-2.06.94zm-11 1L8.5 8.5l.94-2.06 2.06-.94-2.06-.94L8.5 2.5l-.94 2.06-2.06.94zm10 10l.94 2.06.94-2.06 2.06-.94-2.06-.94-.94-2.06-.94 2.06-2.06.94z\"/><path d=\"M17.41 7.96l-1.37-1.37c-.4-.4-.92-.59-1.43-.59-.52 0-1.04.2-1.43.59L10.3 9.45l-7.72 7.72c-.78.78-.78 2.05 0 2.83L4 21.41c.39.39.9.59 1.41.59.51 0 1.02-.2 1.41-.59l7.78-7.78 2.81-2.81c.8-.78.8-2.07 0-2.86zM5.41 20L4 18.59l7.72-7.72 1.47 1.35L5.41 20z\"/>\n",
              "  </svg>\n",
              "      </button>\n",
              "      \n",
              "  <style>\n",
              "    .colab-df-container {\n",
              "      display:flex;\n",
              "      flex-wrap:wrap;\n",
              "      gap: 12px;\n",
              "    }\n",
              "\n",
              "    .colab-df-convert {\n",
              "      background-color: #E8F0FE;\n",
              "      border: none;\n",
              "      border-radius: 50%;\n",
              "      cursor: pointer;\n",
              "      display: none;\n",
              "      fill: #1967D2;\n",
              "      height: 32px;\n",
              "      padding: 0 0 0 0;\n",
              "      width: 32px;\n",
              "    }\n",
              "\n",
              "    .colab-df-convert:hover {\n",
              "      background-color: #E2EBFA;\n",
              "      box-shadow: 0px 1px 2px rgba(60, 64, 67, 0.3), 0px 1px 3px 1px rgba(60, 64, 67, 0.15);\n",
              "      fill: #174EA6;\n",
              "    }\n",
              "\n",
              "    [theme=dark] .colab-df-convert {\n",
              "      background-color: #3B4455;\n",
              "      fill: #D2E3FC;\n",
              "    }\n",
              "\n",
              "    [theme=dark] .colab-df-convert:hover {\n",
              "      background-color: #434B5C;\n",
              "      box-shadow: 0px 1px 3px 1px rgba(0, 0, 0, 0.15);\n",
              "      filter: drop-shadow(0px 1px 2px rgba(0, 0, 0, 0.3));\n",
              "      fill: #FFFFFF;\n",
              "    }\n",
              "  </style>\n",
              "\n",
              "      <script>\n",
              "        const buttonEl =\n",
              "          document.querySelector('#df-8b686e64-3d88-4673-9e82-9f8fe5ed105f button.colab-df-convert');\n",
              "        buttonEl.style.display =\n",
              "          google.colab.kernel.accessAllowed ? 'block' : 'none';\n",
              "\n",
              "        async function convertToInteractive(key) {\n",
              "          const element = document.querySelector('#df-8b686e64-3d88-4673-9e82-9f8fe5ed105f');\n",
              "          const dataTable =\n",
              "            await google.colab.kernel.invokeFunction('convertToInteractive',\n",
              "                                                     [key], {});\n",
              "          if (!dataTable) return;\n",
              "\n",
              "          const docLinkHtml = 'Like what you see? Visit the ' +\n",
              "            '<a target=\"_blank\" href=https://colab.research.google.com/notebooks/data_table.ipynb>data table notebook</a>'\n",
              "            + ' to learn more about interactive tables.';\n",
              "          element.innerHTML = '';\n",
              "          dataTable['output_type'] = 'display_data';\n",
              "          await google.colab.output.renderOutput(dataTable, element);\n",
              "          const docLink = document.createElement('div');\n",
              "          docLink.innerHTML = docLinkHtml;\n",
              "          element.appendChild(docLink);\n",
              "        }\n",
              "      </script>\n",
              "    </div>\n",
              "  </div>\n",
              "  "
            ]
          },
          "metadata": {},
          "execution_count": 29
        }
      ]
    },
    {
      "cell_type": "code",
      "source": [
        "df['Accident Date/Time'] =  pd.to_datetime(df['Accident Date/Time'])"
      ],
      "metadata": {
        "id": "Xjkm7N2Oim1P"
      },
      "execution_count": null,
      "outputs": []
    },
    {
      "cell_type": "code",
      "source": [
        "for columns in df:\n",
        "  print(\"the {} has {}\".format(columns, df.columns.dtype))"
      ],
      "metadata": {
        "colab": {
          "base_uri": "https://localhost:8080/"
        },
        "id": "s4FrTAFbi-mc",
        "outputId": "06c8effe-4891-4103-f4a3-b06bc48825e9"
      },
      "execution_count": null,
      "outputs": [
        {
          "output_type": "stream",
          "name": "stdout",
          "text": [
            "the Report Number has object\n",
            "the Supplemental Number has object\n",
            "the Accident Year has object\n",
            "the Accident Date/Time has object\n",
            "the Operator ID has object\n",
            "the Operator Name has object\n",
            "the Pipeline Location has object\n",
            "the Pipeline Type has object\n",
            "the Liquid Type has object\n",
            "the Accident County has object\n",
            "the Accident State has object\n",
            "the Accident Latitude has object\n",
            "the Accident Longitude has object\n",
            "the Cause Category has object\n",
            "the Cause Subcategory has object\n",
            "the Unintentional Release (Barrels) has object\n",
            "the Liquid Recovery (Barrels) has object\n",
            "the Net Loss (Barrels) has object\n",
            "the Liquid Ignition has object\n",
            "the Liquid Explosion has object\n",
            "the Property Damage Costs has object\n",
            "the Lost Commodity Costs has object\n",
            "the Public/Private Property Damage Costs has object\n",
            "the Emergency Response Costs has object\n",
            "the Environmental Remediation Costs has object\n",
            "the Other Costs has object\n",
            "the All Costs has object\n"
          ]
        }
      ]
    },
    {
      "cell_type": "code",
      "source": [
        "df['Operator Name'].nunique()"
      ],
      "metadata": {
        "colab": {
          "base_uri": "https://localhost:8080/"
        },
        "id": "0-V497yukIwu",
        "outputId": "6064afc9-dceb-4962-a7c8-f7d488fd351a"
      },
      "execution_count": null,
      "outputs": [
        {
          "output_type": "execute_result",
          "data": {
            "text/plain": [
              "224"
            ]
          },
          "metadata": {},
          "execution_count": 37
        }
      ]
    },
    {
      "cell_type": "code",
      "source": [
        "df['Pipeline Location'].nunique()"
      ],
      "metadata": {
        "colab": {
          "base_uri": "https://localhost:8080/"
        },
        "id": "ukLCj3gJkDAW",
        "outputId": "a5878203-eaca-41f9-8155-b210bcde7fb0"
      },
      "execution_count": null,
      "outputs": [
        {
          "output_type": "execute_result",
          "data": {
            "text/plain": [
              "1"
            ]
          },
          "metadata": {},
          "execution_count": 38
        }
      ]
    },
    {
      "cell_type": "code",
      "source": [
        "for columns in df:\n",
        "  print(\"The unique values in the {} are {}\".format(columns, df[columns].nunique()))"
      ],
      "metadata": {
        "colab": {
          "base_uri": "https://localhost:8080/"
        },
        "id": "WBvYLTUYkmzJ",
        "outputId": "a864d549-a541-421e-f9ff-415eb9e39745"
      },
      "execution_count": null,
      "outputs": [
        {
          "output_type": "stream",
          "name": "stdout",
          "text": [
            "The unique values in the Report Number are 2700\n",
            "The unique values in the Supplemental Number are 2700\n",
            "The unique values in the Accident Year are 8\n",
            "The unique values in the Accident Date/Time are 2684\n",
            "The unique values in the Operator ID are 209\n",
            "The unique values in the Operator Name are 224\n",
            "The unique values in the Pipeline Location are 1\n",
            "The unique values in the Pipeline Type are 4\n",
            "The unique values in the Liquid Type are 5\n",
            "The unique values in the Accident County are 677\n",
            "The unique values in the Accident State are 45\n",
            "The unique values in the Accident Latitude are 2467\n",
            "The unique values in the Accident Longitude are 2470\n",
            "The unique values in the Cause Category are 7\n",
            "The unique values in the Cause Subcategory are 38\n",
            "The unique values in the Unintentional Release (Barrels) are 683\n",
            "The unique values in the Liquid Recovery (Barrels) are 533\n",
            "The unique values in the Net Loss (Barrels) are 433\n",
            "The unique values in the Liquid Ignition are 2\n",
            "The unique values in the Liquid Explosion are 2\n",
            "The unique values in the Property Damage Costs are 750\n",
            "The unique values in the Lost Commodity Costs are 735\n",
            "The unique values in the Public/Private Property Damage Costs are 108\n",
            "The unique values in the Emergency Response Costs are 698\n",
            "The unique values in the Environmental Remediation Costs are 620\n",
            "The unique values in the Other Costs are 168\n",
            "The unique values in the All Costs are 2213\n"
          ]
        }
      ]
    },
    {
      "cell_type": "code",
      "source": [
        "df.groupby('Pipeline Type')['Report Number'].count().sort_values(ascending=False).plot(kind = 'bar',color=sns.color_palette('pastel'))"
      ],
      "metadata": {
        "colab": {
          "base_uri": "https://localhost:8080/",
          "height": 376
        },
        "id": "dkUeusD5ktje",
        "outputId": "cbc41850-76ba-4a47-d58b-c1174b1d0953"
      },
      "execution_count": null,
      "outputs": [
        {
          "output_type": "execute_result",
          "data": {
            "text/plain": [
              "<matplotlib.axes._subplots.AxesSubplot at 0x7f3adf8d1690>"
            ]
          },
          "metadata": {},
          "execution_count": 67
        },
        {
          "output_type": "display_data",
          "data": {
            "text/plain": [
              "<Figure size 432x288 with 1 Axes>"
            ],
            "image/png": "[encoded data removed]"
          },
          "metadata": {
            "needs_background": "light"
          }
        }
      ]
    },
    {
      "cell_type": "markdown",
      "source": [
        "Above ground has the highest number of reported accidents while theTransition area has the lowest one."
      ],
      "metadata": {
        "id": "auRqV7Ytk9Pa"
      }
    },
    {
      "cell_type": "code",
      "source": [
        "df.groupby('Liquid Type')['Report Number'].count().sort_values(ascending=False).plot(kind = 'bar', color=sns.color_palette('pastel'))"
      ],
      "metadata": {
        "colab": {
          "base_uri": "https://localhost:8080/",
          "height": 591
        },
        "id": "7o4Z06Jgk7f5",
        "outputId": "86e450d7-84f4-4b74-c231-fcea52a76aa0"
      },
      "execution_count": null,
      "outputs": [
        {
          "output_type": "execute_result",
          "data": {
            "text/plain": [
              "<matplotlib.axes._subplots.AxesSubplot at 0x7f3adf95af90>"
            ]
          },
          "metadata": {},
          "execution_count": 66
        },
        {
          "output_type": "display_data",
          "data": {
            "text/plain": [
              "<Figure size 432x288 with 1 Axes>"
            ],
            "image/png": "[encoded data removed]"
          },
          "metadata": {
            "needs_background": "light"
          }
        }
      ]
    },
    {
      "cell_type": "markdown",
      "source": [
        "Crude oil has the hieghest number of accidents while Biofuel has the lowest one"
      ],
      "metadata": {
        "id": "PLom7lTjlck0"
      }
    },
    {
      "cell_type": "code",
      "source": [
        "df.groupby('Accident State')['Report Number'].count().sort_values(ascending=False).plot(kind = 'bar', figsize = (20, 10),color=sns.color_palette('pastel'))"
      ],
      "metadata": {
        "colab": {
          "base_uri": "https://localhost:8080/",
          "height": 627
        },
        "id": "2RBIsrmklhjB",
        "outputId": "0cc0190f-4f1c-4f1f-f69c-11624aacda57"
      },
      "execution_count": null,
      "outputs": [
        {
          "output_type": "execute_result",
          "data": {
            "text/plain": [
              "<matplotlib.axes._subplots.AxesSubplot at 0x7f3adfb3ef90>"
            ]
          },
          "metadata": {},
          "execution_count": 62
        },
        {
          "output_type": "display_data",
          "data": {
            "text/plain": [
              "<Figure size 1440x720 with 1 Axes>"
            ],
            "image/png": "[encoded data removed]"
          },
          "metadata": {
            "needs_background": "light"
          }
        }
      ]
    },
    {
      "cell_type": "code",
      "source": [
        "df.groupby('Cause Category')['Report Number'].count().plot(kind = 'pie')"
      ],
      "metadata": {
        "colab": {
          "base_uri": "https://localhost:8080/",
          "height": 265
        },
        "id": "AeSl2LLnlbxo",
        "outputId": "0f3490b6-9030-4e2e-b229-e19bd75254c3"
      },
      "execution_count": null,
      "outputs": [
        {
          "output_type": "execute_result",
          "data": {
            "text/plain": [
              "<matplotlib.axes._subplots.AxesSubplot at 0x7f3ae2427950>"
            ]
          },
          "metadata": {},
          "execution_count": 51
        },
        {
          "output_type": "display_data",
          "data": {
            "text/plain": [
              "<Figure size 432x288 with 1 Axes>"
            ],
            "image/png": "[encoded data removed]"
          },
          "metadata": {}
        }
      ]
    },
    {
      "cell_type": "markdown",
      "source": [
        "Material/Weld/Equipment Failure has the main cause of the accidents "
      ],
      "metadata": {
        "id": "CJ29acP_mMF4"
      }
    },
    {
      "cell_type": "code",
      "source": [
        "df.groupby('Cause Subcategory')['Report Number'].count().sort_values(ascending=False).plot(kind = 'bar', figsize = (20, 10), color=sns.color_palette('pastel'))"
      ],
      "metadata": {
        "colab": {
          "base_uri": "https://localhost:8080/",
          "height": 904
        },
        "id": "uctaU5BrmC-M",
        "outputId": "b01ff070-4afb-474f-aa66-1a89358836c5"
      },
      "execution_count": null,
      "outputs": [
        {
          "output_type": "execute_result",
          "data": {
            "text/plain": [
              "<matplotlib.axes._subplots.AxesSubplot at 0x7f3adfc65650>"
            ]
          },
          "metadata": {},
          "execution_count": 61
        },
        {
          "output_type": "display_data",
          "data": {
            "text/plain": [
              "<Figure size 1440x720 with 1 Axes>"
            ],
            "image/png": "[encoded data removed]"
          },
          "metadata": {
            "needs_background": "light"
          }
        }
      ]
    },
    {
      "cell_type": "code",
      "source": [
        "df.groupby('Liquid Ignition')['Report Number'].count().plot(kind = 'bar', color=sns.color_palette('pastel'))"
      ],
      "metadata": {
        "colab": {
          "base_uri": "https://localhost:8080/",
          "height": 305
        },
        "id": "b7VNMv1Lk2A6",
        "outputId": "55c01a18-b545-4a04-899b-e8bf2a8775a9"
      },
      "execution_count": null,
      "outputs": [
        {
          "output_type": "execute_result",
          "data": {
            "text/plain": [
              "<matplotlib.axes._subplots.AxesSubplot at 0x7f3adf84fed0>"
            ]
          },
          "metadata": {},
          "execution_count": 68
        },
        {
          "output_type": "display_data",
          "data": {
            "text/plain": [
              "<Figure size 432x288 with 1 Axes>"
            ],
            "image/png": "[encoded data removed]"
          },
          "metadata": {
            "needs_background": "light"
          }
        }
      ]
    },
    {
      "cell_type": "code",
      "source": [
        "#Liquid Explosion\n",
        "df.groupby('Liquid Explosion')['Report Number'].count().plot(kind = 'bar', color=sns.color_palette('pastel'))"
      ],
      "metadata": {
        "colab": {
          "base_uri": "https://localhost:8080/",
          "height": 305
        },
        "id": "kllcUhlUnLFJ",
        "outputId": "2ad8a3ef-ef1b-4f64-9c54-6e530b20f514"
      },
      "execution_count": null,
      "outputs": [
        {
          "output_type": "execute_result",
          "data": {
            "text/plain": [
              "<matplotlib.axes._subplots.AxesSubplot at 0x7f3adf7c3e90>"
            ]
          },
          "metadata": {},
          "execution_count": 69
        },
        {
          "output_type": "display_data",
          "data": {
            "text/plain": [
              "<Figure size 432x288 with 1 Axes>"
            ],
            "image/png": "[encoded data removed]"
          },
          "metadata": {
            "needs_background": "light"
          }
        }
      ]
    }
  ]
}